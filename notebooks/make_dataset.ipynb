{
 "cells": [
  {
   "cell_type": "code",
   "execution_count": 1,
   "metadata": {},
   "outputs": [],
   "source": [
    "import sys\n",
    "sys.path.append('..')\n",
    "\n",
    "from src.data import make_dataset\n",
    "from src.simulations import run_simulations\n",
    "from tqdm import tqdm"
   ]
  },
  {
   "cell_type": "code",
   "execution_count": 2,
   "metadata": {},
   "outputs": [
    {
     "name": "stderr",
     "output_type": "stream",
     "text": [
      "Reading file: 100%|██████████| 400000/400000 [00:17<00:00, 23498.34line/s]\n"
     ]
    },
    {
     "name": "stdout",
     "output_type": "stream",
     "text": [
      "len(words_array) (raw):\t\t\t400,000\n",
      "len(words_array) (filter_alphabetic):\t317,756\n",
      "len(words_array) (filter_20k):\t\t19,737\n"
     ]
    },
    {
     "data": {
      "text/plain": [
       "(18.62818498438399, 'convinced - did + does = you')"
      ]
     },
     "execution_count": 2,
     "metadata": {},
     "output_type": "execute_result"
    }
   ],
   "source": [
    "embeddings_index = make_dataset.parse_glove_data(\"..\\\\data\\\\raw\\\\glove.6B.50d.txt\", True)\n",
    "\n",
    "words_array = make_dataset.get_words_array(embeddings_index)\n",
    "print(\"len(words_array) (raw):\\t\\t\\t\" + \"{:,}\".format(len(words_array)))\n",
    "words_array = make_dataset.filter_alphabetic(words_array)\n",
    "print(\"len(words_array) (filter_alphabetic):\\t\" + \"{:,}\".format(len(words_array)))\n",
    "words_array = make_dataset.filter_20k(words_array, \"..\\\\data\\\\external\\\\20k.txt\")\n",
    "print(\"len(words_array) (filter_20k):\\t\\t\" + \"{:,}\".format(len(words_array)))\n",
    "\n",
    "glove_df = make_dataset.embeddings_to_dataframe(embeddings_index, words_array)\n",
    "\n",
    "run_simulations.simulate_game(glove_df, num_operations=2)"
   ]
  },
  {
   "cell_type": "code",
   "execution_count": 3,
   "metadata": {},
   "outputs": [
    {
     "name": "stderr",
     "output_type": "stream",
     "text": [
      "Equations found: 100%|██████████| 100/100 [00:03<00:00, 28.50it/s]\n"
     ]
    }
   ],
   "source": [
    "run_simulations.batch_simulations(30, 100, \"..\\\\data\\\\processed\\\\results.csv\", glove_df, 2)"
   ]
  }
 ],
 "metadata": {
  "kernelspec": {
   "display_name": "Python 3",
   "language": "python",
   "name": "python3"
  },
  "language_info": {
   "codemirror_mode": {
    "name": "ipython",
    "version": 3
   },
   "file_extension": ".py",
   "mimetype": "text/x-python",
   "name": "python",
   "nbconvert_exporter": "python",
   "pygments_lexer": "ipython3",
   "version": "3.12.0"
  }
 },
 "nbformat": 4,
 "nbformat_minor": 2
}
