{
 "cells": [
  {
   "cell_type": "code",
   "execution_count": 1,
   "metadata": {},
   "outputs": [],
   "source": [
    "import sys\n",
    "sys.path.append('..')\n",
    "\n",
    "from src.data import make_dataset\n",
    "# from src.simulations import run_simulations\n",
    "from tqdm import tqdm"
   ]
  },
  {
   "cell_type": "code",
   "execution_count": 2,
   "metadata": {},
   "outputs": [],
   "source": [
    "import numpy as np\n",
    "import pandas as pd"
   ]
  },
  {
   "cell_type": "code",
   "execution_count": 13,
   "metadata": {},
   "outputs": [],
   "source": [
    "def _euclidean_distance(a, b):\n",
    "    return np.sqrt(np.sum(np.square(a - b)))\n",
    "\n",
    "def _get_distances_series(glove_df, vector):\n",
    "    return np.sqrt(np.sum(np.square(glove_df - vector), axis=1))\n",
    "\n",
    "\n",
    "def _random_similar_word(word, glove_df, similarity_threshold=200):\n",
    "    \"\"\"\n",
    "    Get a random word similar to the given word from a GloVe embeddings DataFrame.\n",
    "\n",
    "    Parameters:\n",
    "    - word (str): The word to find similar words to.\n",
    "    - glove_df (pandas.DataFrame): DataFrame containing GloVe embeddings with words as index.\n",
    "    - similarity_threshold (int): The maximum number of similar words to consider.\n",
    "\n",
    "    Returns:\n",
    "    - str: A random word similar to the given word.\n",
    "    \"\"\"\n",
    "    distances = _get_distances_series(glove_df, glove_df.loc[word])\n",
    "    sorted_distances = distances.sort_values()\n",
    "    filtered_distances = sorted_distances.iloc[1 : similarity_threshold + 1]\n",
    "    similar_word = np.random.choice(filtered_distances.index)\n",
    "    return similar_word\n",
    "\n",
    "\n",
    "def _pick_final_word(\n",
    "    result_vector, starting_word, intermediate_words, glove_df, num_operations\n",
    "):\n",
    "    \"\"\"\n",
    "    Pick a final word for an equation generated using word vectors.\n",
    "\n",
    "    Parameters:\n",
    "    - result_vector (numpy.array): Resultant vector of the equation.\n",
    "    - starting_word (str): The starting word of the equation.\n",
    "    - intermediate_words (list of str): List of intermediate words used in the equation.\n",
    "    - glove_df (pandas.DataFrame): DataFrame containing GloVe embeddings with words as index.\n",
    "    - num_operations (int): Number of operations in the equation.\n",
    "\n",
    "    Returns:\n",
    "    - str: The final word selected for the equation.\n",
    "    \"\"\"\n",
    "    equation_words = [starting_word] + list(intermediate_words)\n",
    "    sorted_glove_indices = _get_distances_series(glove_df, result_vector).sort_values().index\n",
    "    closest_words = sorted_glove_indices[: num_operations + 2]\n",
    "\n",
    "    for final_word in closest_words:\n",
    "        if final_word not in equation_words:\n",
    "            return final_word\n",
    "    return \"ERROR: WORD NOT FOUND\"\n",
    "\n",
    "\n",
    "def _equation_to_string(starting_word, intermediate_words, final_word, operations):\n",
    "    \"\"\"\n",
    "    Convert an equation represented by its components into a string format.\n",
    "\n",
    "    Parameters:\n",
    "    - starting_word (str): The starting word of the equation.\n",
    "    - intermediate_words (list of str): List of intermediate words used in the equation.\n",
    "    - final_word (str): The final word of the equation.\n",
    "    - operations (list of int): List of operations (+1 for addition, -1 for subtraction).\n",
    "\n",
    "    Returns:\n",
    "    - str: The equation string in the format \"starting_word + intermediate_word1 - intermediate_word2 = final_word\".\n",
    "    \"\"\"\n",
    "    equation_string = starting_word\n",
    "\n",
    "    for i, operation in enumerate(operations):\n",
    "        equation_string += \" + \" if operation == 1 else \" - \"\n",
    "        equation_string += intermediate_words[i]\n",
    "\n",
    "    return equation_string + \" = \" + final_word\n",
    "\n",
    "\n",
    "def simulate_game(glove_df, num_operations):\n",
    "    \"\"\"\n",
    "    Simulate a word-based game using GloVe embeddings.\n",
    "\n",
    "    Parameters:\n",
    "    - glove_df (pandas.DataFrame): DataFrame containing GloVe embeddings with words as index.\n",
    "    - num_operations (int): Number of operations to perform in the game.\n",
    "\n",
    "    Returns:\n",
    "    - tuple: A tuple containing the euclidean distance between the final word and the result vector,\n",
    "             and the equation string representing the game.\n",
    "    \"\"\"\n",
    "    starting_word = np.random.choice(glove_df.index)\n",
    "\n",
    "    intermediate_words = np.array(\n",
    "        [\n",
    "            _random_similar_word(starting_word, glove_df, 100)\n",
    "            for _ in range(num_operations)\n",
    "        ]\n",
    "    )\n",
    "    operations = np.random.choice([-1, 1], size=num_operations)\n",
    "\n",
    "    factor_matrix = np.array([glove_df.loc[word] for word in intermediate_words])\n",
    "    factors_x_operations = np.dot(operations, factor_matrix)\n",
    "\n",
    "    result_vector = glove_df.loc[starting_word] + factors_x_operations\n",
    "\n",
    "    final_word = _pick_final_word(\n",
    "        result_vector, starting_word, intermediate_words, glove_df, num_operations\n",
    "    )\n",
    "    similarity = _euclidean_distance(glove_df.loc[final_word], result_vector)\n",
    "\n",
    "    return similarity, _equation_to_string(\n",
    "        starting_word, intermediate_words, final_word, operations\n",
    "    )\n",
    "\n",
    "\n",
    "def batch_simulations(\n",
    "    threshold, num_results, output_filepath, glove_df, num_operations\n",
    "):\n",
    "    \"\"\"\n",
    "    Perform batch simulations of word-based games using GloVe embeddings.\n",
    "\n",
    "    Parameters:\n",
    "    - threshold (float): Maximum euclidean distance for considering a game result.\n",
    "    - num_results (int): Number of simulation results to generate.\n",
    "    - output_filepath (str): Filepath to save the results.\n",
    "    - glove_df (pandas.DataFrame): DataFrame containing GloVe embeddings with words as index.\n",
    "    - num_operations (int): Number of operations to perform in each game.\n",
    "\n",
    "    Returns:\n",
    "    - None\n",
    "    \"\"\"\n",
    "    simulation_results = []\n",
    "\n",
    "    with tqdm(total=num_results, desc=\"Equations found\") as pbar:\n",
    "        while len(simulation_results) < num_results:\n",
    "            sim = simulate_game(glove_df, num_operations)\n",
    "            if sim[0] < threshold:\n",
    "                simulation_results.append(sim)\n",
    "                pbar.update(1)\n",
    "    results_df = pd.DataFrame(simulation_results, columns=[\"distance\", \"equation\"])\n",
    "\n",
    "    sorted_results = results_df.sort_values(by=\"distance\", ascending=True)\n",
    "    sorted_results.to_csv(output_filepath)"
   ]
  },
  {
   "cell_type": "code",
   "execution_count": 4,
   "metadata": {},
   "outputs": [
    {
     "name": "stderr",
     "output_type": "stream",
     "text": [
      "Reading file: 100%|██████████| 400000/400000 [04:07<00:00, 1614.58line/s]\n"
     ]
    }
   ],
   "source": [
    "embeddings_index = make_dataset.parse_glove_data(\"..\\\\data\\\\raw\\\\glove.6B.300d.txt\", True)"
   ]
  },
  {
   "cell_type": "code",
   "execution_count": 5,
   "metadata": {},
   "outputs": [
    {
     "name": "stdout",
     "output_type": "stream",
     "text": [
      "len(words_array) (raw):\t\t\t400,000\n",
      "len(words_array) (filter_alphabetic):\t317,756\n",
      "len(words_array) (filter_20k):\t\t19,737\n"
     ]
    }
   ],
   "source": [
    "words_array = make_dataset.get_words_array(embeddings_index)\n",
    "print(\"len(words_array) (raw):\\t\\t\\t\" + \"{:,}\".format(len(words_array)))\n",
    "words_array = make_dataset.filter_alphabetic(words_array)\n",
    "print(\"len(words_array) (filter_alphabetic):\\t\" + \"{:,}\".format(len(words_array)))\n",
    "words_array = make_dataset.filter_20k(words_array, \"..\\\\data\\\\external\\\\20k.txt\")\n",
    "print(\"len(words_array) (filter_20k):\\t\\t\" + \"{:,}\".format(len(words_array)))\n"
   ]
  },
  {
   "cell_type": "code",
   "execution_count": 6,
   "metadata": {},
   "outputs": [],
   "source": [
    "glove_df = make_dataset.embeddings_to_dataframe(embeddings_index, words_array)"
   ]
  },
  {
   "cell_type": "code",
   "execution_count": 21,
   "metadata": {},
   "outputs": [
    {
     "name": "stderr",
     "output_type": "stream",
     "text": [
      "Equations found: 100%|██████████| 100/100 [04:00<00:00,  2.40s/it]\n"
     ]
    }
   ],
   "source": [
    "batch_simulations(7, 100, '..\\\\data\\\\processed\\\\results.csv', glove_df, 2)"
   ]
  },
  {
   "cell_type": "code",
   "execution_count": 17,
   "metadata": {},
   "outputs": [
    {
     "data": {
      "text/plain": [
       "deadly          6.724125\n",
       "dozens          7.125394\n",
       "dozen           7.969513\n",
       "hundreds        7.993612\n",
       "fatal           8.251380\n",
       "                 ...    \n",
       "polynomial     14.367004\n",
       "eh             14.506359\n",
       "attn           14.885276\n",
       "householder    15.817514\n",
       "herein         16.107616\n",
       "Length: 19737, dtype: float32"
      ]
     },
     "execution_count": 17,
     "metadata": {},
     "output_type": "execute_result"
    }
   ],
   "source": [
    "a = glove_df.loc['deadly'] - glove_df.loc['fighting'] + glove_df.loc['dozens']\n",
    "b = glove_df.loc['dozen']\n",
    "_get_distances_series(glove_df, a).sort_values()"
   ]
  },
  {
   "cell_type": "code",
   "execution_count": 20,
   "metadata": {},
   "outputs": [
    {
     "data": {
      "text/plain": [
       "king            4.753941\n",
       "queen           5.955311\n",
       "monarch         6.899858\n",
       "mother          7.178615\n",
       "princess        7.252288\n",
       "                 ...    \n",
       "attn           13.700110\n",
       "teaspoon       13.716257\n",
       "householder    14.167259\n",
       "frontpage      14.233803\n",
       "herein         15.916162\n",
       "Length: 19737, dtype: float32"
      ]
     },
     "execution_count": 20,
     "metadata": {},
     "output_type": "execute_result"
    }
   ],
   "source": [
    "a = glove_df.loc['king'] - glove_df.loc['man'] + glove_df.loc['woman']\n",
    "b = glove_df.loc['queen']\n",
    "_get_distances_series(glove_df, a).sort_values()"
   ]
  }
 ],
 "metadata": {
  "kernelspec": {
   "display_name": "Python 3",
   "language": "python",
   "name": "python3"
  },
  "language_info": {
   "codemirror_mode": {
    "name": "ipython",
    "version": 3
   },
   "file_extension": ".py",
   "mimetype": "text/x-python",
   "name": "python",
   "nbconvert_exporter": "python",
   "pygments_lexer": "ipython3",
   "version": "3.12.0"
  }
 },
 "nbformat": 4,
 "nbformat_minor": 2
}
