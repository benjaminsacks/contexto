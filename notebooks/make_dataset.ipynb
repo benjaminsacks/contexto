{
 "cells": [
  {
   "cell_type": "code",
   "execution_count": 1,
   "metadata": {},
   "outputs": [],
   "source": [
    "import sys\n",
    "sys.path.append('..')\n",
    "\n",
    "from src.data.make_dataset import *\n",
    "from tqdm import tqdm"
   ]
  },
  {
   "cell_type": "code",
   "execution_count": 2,
   "metadata": {},
   "outputs": [],
   "source": [
    "embeddings_index = parse_glove_data(r\"..\\data\\raw\\glove.6B.100d.txt\")"
   ]
  },
  {
   "cell_type": "code",
   "execution_count": 3,
   "metadata": {},
   "outputs": [
    {
     "name": "stdout",
     "output_type": "stream",
     "text": [
      "len(words_array) (raw):\t\t\t400,000\n",
      "len(words_array) (filter_alphabetic):\t317,756\n",
      "len(words_array) (filter_20k):\t\t19,737\n"
     ]
    }
   ],
   "source": [
    "words_array = get_words_array(embeddings_index)\n",
    "print(\"len(words_array) (raw):\\t\\t\\t\" + '{:,}'.format(len(words_array)))\n",
    "words_array = filter_alphabetic(words_array)\n",
    "print(\"len(words_array) (filter_alphabetic):\\t\" + '{:,}'.format(len(words_array)))\n",
    "words_array = filter_20k(words_array, r'..\\data\\external\\20k.txt')\n",
    "print(\"len(words_array) (filter_20k):\\t\\t\" + '{:,}'.format(len(words_array)))"
   ]
  },
  {
   "cell_type": "code",
   "execution_count": 4,
   "metadata": {},
   "outputs": [
    {
     "data": {
      "text/plain": [
       "array(['sponsor', 'reptiles', 'analyzer', 'great', 'mpls',\n",
       "       'authoritative', 'planning', 'charlotte', 'estimate', 'banquet',\n",
       "       'native', 'sensations', 'breaking', 'cigarettes', 'product', 'wow',\n",
       "       'examinations', 'diesel', 'aviation', 'colon'], dtype='<U39')"
      ]
     },
     "execution_count": 4,
     "metadata": {},
     "output_type": "execute_result"
    }
   ],
   "source": [
    "np.random.choice(words_array, size=20, replace=False)"
   ]
  },
  {
   "cell_type": "code",
   "execution_count": 5,
   "metadata": {},
   "outputs": [],
   "source": [
    "glove_df = embeddings_to_dataframe(embeddings_index, words_array)"
   ]
  },
  {
   "cell_type": "code",
   "execution_count": 6,
   "metadata": {},
   "outputs": [
    {
     "name": "stdout",
     "output_type": "stream",
     "text": [
      "vx + pogo - initiatives = vx\n"
     ]
    }
   ],
   "source": [
    "starting_word = np.random.choice(words_array)\n",
    "factor_words = np.random.choice(words_array, size=2, replace=False)\n",
    "operations = np.random.choice([-1, 1], size=2)\n",
    "\n",
    "factor_matrix = np.array([embeddings_index[word] for word in factor_words])\n",
    "factors_x_operations = np.dot(operations, factor_matrix)\n",
    "\n",
    "result_vec = embeddings_index[starting_word] + factors_x_operations\n",
    "# final_words = list(glove_df.index[np.dot(glove_df, result_vec).argsort()[::-1][:5]])\n",
    "final_words = glove_df.index[np.dot(glove_df, result_vec).argsort()[::-1][0]]\n",
    "\n",
    "op_text = [\" + \" if o == 1 else \" - \" for o in list(operations)]\n",
    "print(starting_word + op_text[0] + factor_words[0]\n",
    "                    + op_text[1] + factor_words[1]\n",
    "                    # + op_text[2] + factor_words[2]\n",
    "                    + \" = \" + str(final_words))"
   ]
  },
  {
   "cell_type": "code",
   "execution_count": 7,
   "metadata": {},
   "outputs": [
    {
     "data": {
      "text/plain": [
       "(14.875511996006523, 'dates - concluding - finite = cathedral')"
      ]
     },
     "execution_count": 7,
     "metadata": {},
     "output_type": "execute_result"
    }
   ],
   "source": [
    "def simulate_game(words_array, glove_df, num_operations):\n",
    "    starting_word = np.random.choice(words_array)\n",
    "    factor_words = np.random.choice(words_array, size=num_operations, replace=False)\n",
    "    operations = np.random.choice([-1, 1], size=num_operations)\n",
    "\n",
    "    factor_matrix = np.array([embeddings_index[word] for word in factor_words])\n",
    "    factors_x_operations = np.dot(operations, factor_matrix)\n",
    "\n",
    "    result_vec = embeddings_index[starting_word] + factors_x_operations\n",
    "\n",
    "    final_words = glove_df.index[np.dot(glove_df, result_vec).argsort()[::-1][:2]]\n",
    "    final_word = final_words[0]\n",
    "    if final_word == starting_word:\n",
    "        final_word = final_words[1]\n",
    "    if final_word in factor_words:\n",
    "        final_word = final_words[1]\n",
    "\n",
    "    similarity = np.dot(embeddings_index[final_word], result_vec)\n",
    "    equation_string = starting_word\n",
    "    for i in range(num_operations):\n",
    "        if operations[i] == 1:\n",
    "            equation_string += ' + '\n",
    "        else:\n",
    "            equation_string += ' - '\n",
    "        equation_string += factor_words[i]\n",
    "    equation_string += ' = ' + final_word\n",
    "\n",
    "    return similarity, equation_string\n",
    "\n",
    "simulate_game(words_array, glove_df, 2)"
   ]
  },
  {
   "cell_type": "code",
   "execution_count": 9,
   "metadata": {},
   "outputs": [
    {
     "name": "stderr",
     "output_type": "stream",
     "text": [
      "Equations found: 100%|██████████| 10/10 [00:54<00:00,  5.46s/it]\n"
     ]
    },
    {
     "data": {
      "text/html": [
       "<div>\n",
       "<style scoped>\n",
       "    .dataframe tbody tr th:only-of-type {\n",
       "        vertical-align: middle;\n",
       "    }\n",
       "\n",
       "    .dataframe tbody tr th {\n",
       "        vertical-align: top;\n",
       "    }\n",
       "\n",
       "    .dataframe thead th {\n",
       "        text-align: right;\n",
       "    }\n",
       "</style>\n",
       "<table border=\"1\" class=\"dataframe\">\n",
       "  <thead>\n",
       "    <tr style=\"text-align: right;\">\n",
       "      <th></th>\n",
       "      <th>similarity</th>\n",
       "      <th>equation</th>\n",
       "    </tr>\n",
       "  </thead>\n",
       "  <tbody>\n",
       "    <tr>\n",
       "      <th>6</th>\n",
       "      <td>74.561169</td>\n",
       "      <td>so + see + initial = we</td>\n",
       "    </tr>\n",
       "    <tr>\n",
       "      <th>1</th>\n",
       "      <td>69.107421</td>\n",
       "      <td>apple + ca + americans = you</td>\n",
       "    </tr>\n",
       "    <tr>\n",
       "      <th>4</th>\n",
       "      <td>66.720005</td>\n",
       "      <td>attorneys + we + task = they</td>\n",
       "    </tr>\n",
       "    <tr>\n",
       "      <th>2</th>\n",
       "      <td>65.638142</td>\n",
       "      <td>particularly + mm + elections = mm</td>\n",
       "    </tr>\n",
       "    <tr>\n",
       "      <th>0</th>\n",
       "      <td>64.334775</td>\n",
       "      <td>rates + new + straw = rate</td>\n",
       "    </tr>\n",
       "    <tr>\n",
       "      <th>8</th>\n",
       "      <td>63.490674</td>\n",
       "      <td>uranium + inspectors + gilmore = enrichment</td>\n",
       "    </tr>\n",
       "    <tr>\n",
       "      <th>3</th>\n",
       "      <td>62.410789</td>\n",
       "      <td>canoeing + canoeing + governed = kayaking</td>\n",
       "    </tr>\n",
       "    <tr>\n",
       "      <th>9</th>\n",
       "      <td>61.633886</td>\n",
       "      <td>things + pink + seven = you</td>\n",
       "    </tr>\n",
       "    <tr>\n",
       "      <th>5</th>\n",
       "      <td>61.469536</td>\n",
       "      <td>tcp + metacritic + pubmed = aggregator</td>\n",
       "    </tr>\n",
       "    <tr>\n",
       "      <th>7</th>\n",
       "      <td>60.220678</td>\n",
       "      <td>hazardous - ments + nuclear = weapons</td>\n",
       "    </tr>\n",
       "  </tbody>\n",
       "</table>\n",
       "</div>"
      ],
      "text/plain": [
       "   similarity                                     equation\n",
       "6   74.561169                      so + see + initial = we\n",
       "1   69.107421                 apple + ca + americans = you\n",
       "4   66.720005                 attorneys + we + task = they\n",
       "2   65.638142           particularly + mm + elections = mm\n",
       "0   64.334775                   rates + new + straw = rate\n",
       "8   63.490674  uranium + inspectors + gilmore = enrichment\n",
       "3   62.410789    canoeing + canoeing + governed = kayaking\n",
       "9   61.633886                  things + pink + seven = you\n",
       "5   61.469536       tcp + metacritic + pubmed = aggregator\n",
       "7   60.220678        hazardous - ments + nuclear = weapons"
      ]
     },
     "execution_count": 9,
     "metadata": {},
     "output_type": "execute_result"
    }
   ],
   "source": [
    "sim_results = []\n",
    "num_operations = 2\n",
    "num_results = 10\n",
    "threshold = 60\n",
    "\n",
    "with tqdm(total=num_results, desc=\"Equations found\") as pbar:\n",
    "    while len(sim_results) < num_results:\n",
    "        sim = simulate_game(words_array, glove_df, num_operations)\n",
    "        if sim[0] > threshold:\n",
    "            sim_results.append(sim)\n",
    "            pbar.update(1)\n",
    "results_df = pd.DataFrame(sim_results, columns=[\"similarity\", \"equation\"])\n",
    "\n",
    "sorted_results = results_df.sort_values(by=\"similarity\", ascending=False)\n",
    "sorted_results"
   ]
  },
  {
   "cell_type": "code",
   "execution_count": 11,
   "metadata": {},
   "outputs": [
    {
     "data": {
      "text/plain": [
       "29.906998"
      ]
     },
     "execution_count": 11,
     "metadata": {},
     "output_type": "execute_result"
    }
   ],
   "source": [
    "np.dot(embeddings_index['king'] - embeddings_index['man'] + embeddings_index['woman'], embeddings_index['queen'])"
   ]
  }
 ],
 "metadata": {
  "kernelspec": {
   "display_name": "Python 3",
   "language": "python",
   "name": "python3"
  },
  "language_info": {
   "codemirror_mode": {
    "name": "ipython",
    "version": 3
   },
   "file_extension": ".py",
   "mimetype": "text/x-python",
   "name": "python",
   "nbconvert_exporter": "python",
   "pygments_lexer": "ipython3",
   "version": "3.12.0"
  }
 },
 "nbformat": 4,
 "nbformat_minor": 2
}
