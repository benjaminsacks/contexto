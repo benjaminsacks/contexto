{
 "cells": [
  {
   "cell_type": "code",
   "execution_count": 1,
   "metadata": {},
   "outputs": [],
   "source": [
    "import sys\n",
    "sys.path.append('..')\n",
    "\n",
    "from src.data.make_dataset import *\n",
    "from tqdm import tqdm"
   ]
  },
  {
   "cell_type": "code",
   "execution_count": 2,
   "metadata": {},
   "outputs": [],
   "source": [
    "embeddings_index = parse_glove_data(r\"..\\data\\raw\\glove.6B.300d.txt\")"
   ]
  },
  {
   "cell_type": "code",
   "execution_count": 3,
   "metadata": {},
   "outputs": [
    {
     "name": "stdout",
     "output_type": "stream",
     "text": [
      "len(words_array) (raw):\t\t\t400,000\n",
      "len(words_array) (filter_alphabetic):\t317,756\n",
      "len(words_array) (filter_20k):\t\t19,737\n"
     ]
    }
   ],
   "source": [
    "words_array = get_words_array(embeddings_index)\n",
    "print(\"len(words_array) (raw):\\t\\t\\t\" + '{:,}'.format(len(words_array)))\n",
    "words_array = filter_alphabetic(words_array)\n",
    "print(\"len(words_array) (filter_alphabetic):\\t\" + '{:,}'.format(len(words_array)))\n",
    "words_array = filter_20k(words_array, r'..\\data\\external\\20k.txt')\n",
    "print(\"len(words_array) (filter_20k):\\t\\t\" + '{:,}'.format(len(words_array)))"
   ]
  },
  {
   "cell_type": "code",
   "execution_count": 4,
   "metadata": {},
   "outputs": [
    {
     "data": {
      "text/plain": [
       "array(['spies', 'todos', 'psc', 'services', 'jd', 'acorn', 'lastly',\n",
       "       'greeting', 'firefly', 'listing', 'uncomfortable', 'nevada',\n",
       "       'prediction', 'sphere', 'plunge', 'furnished', 'elder', 'spyware',\n",
       "       'ist', 'unpredictable'], dtype='<U39')"
      ]
     },
     "execution_count": 4,
     "metadata": {},
     "output_type": "execute_result"
    }
   ],
   "source": [
    "np.random.choice(words_array, size=20, replace=False)"
   ]
  },
  {
   "cell_type": "code",
   "execution_count": 45,
   "metadata": {},
   "outputs": [],
   "source": [
    "glove_df = embeddings_to_dataframe(embeddings_index, words_array)"
   ]
  },
  {
   "cell_type": "code",
   "execution_count": 6,
   "metadata": {},
   "outputs": [
    {
     "name": "stdout",
     "output_type": "stream",
     "text": [
      "nist - co - contracted = nist\n"
     ]
    }
   ],
   "source": [
    "starting_word = np.random.choice(words_array)\n",
    "factor_words = np.random.choice(words_array, size=2, replace=False)\n",
    "operations = np.random.choice([-1, 1], size=2)\n",
    "\n",
    "factor_matrix = np.array([embeddings_index[word] for word in factor_words])\n",
    "factors_x_operations = np.dot(operations, factor_matrix)\n",
    "\n",
    "result_vec = embeddings_index[starting_word] + factors_x_operations\n",
    "# final_words = list(glove_df.index[np.dot(glove_df, result_vec).argsort()[::-1][:5]])\n",
    "final_words = glove_df.index[np.dot(glove_df, result_vec).argsort()[::-1][0]]\n",
    "\n",
    "op_text = [\" + \" if o == 1 else \" - \" for o in list(operations)]\n",
    "print(starting_word + op_text[0] + factor_words[0]\n",
    "                    + op_text[1] + factor_words[1]\n",
    "                    # + op_text[2] + factor_words[2]\n",
    "                    + \" = \" + str(final_words))"
   ]
  },
  {
   "cell_type": "code",
   "execution_count": 71,
   "metadata": {},
   "outputs": [
    {
     "data": {
      "text/plain": [
       "'egypt'"
      ]
     },
     "execution_count": 71,
     "metadata": {},
     "output_type": "execute_result"
    }
   ],
   "source": [
    "def random_similar_word(word, glove_df, similarity_threshold=200):\n",
    "    sorted_similarities = np.dot(glove_df, embeddings_index[word]).argsort()[::-1]\n",
    "    filtered_glove = glove_df.index[sorted_similarities[1:similarity_threshold+1]]\n",
    "    similar_word = np.random.choice(filtered_glove)\n",
    "    return similar_word\n",
    "        \n",
    "random_similar_word('king', glove_df)"
   ]
  },
  {
   "cell_type": "code",
   "execution_count": 74,
   "metadata": {},
   "outputs": [
    {
     "data": {
      "text/plain": [
       "(29.300819491447566, 'parts - divided + some = equipment')"
      ]
     },
     "execution_count": 74,
     "metadata": {},
     "output_type": "execute_result"
    }
   ],
   "source": [
    "def simulate_game(words_array, glove_df, num_operations):\n",
    "    starting_word = np.random.choice(words_array)\n",
    "    # factor_words = np.random.choice(words_array, size=num_operations, replace=False)\n",
    "    factor_words = np.array([random_similar_word(starting_word, glove_df, 100) for _ in range(num_operations)])\n",
    "    operations = np.random.choice([-1, 1], size=num_operations)\n",
    "    # operations = np.array([-1, 1])\n",
    "\n",
    "    factor_matrix = np.array([embeddings_index[word] for word in factor_words])\n",
    "    factors_x_operations = np.dot(operations, factor_matrix)\n",
    "\n",
    "    result_vec = embeddings_index[starting_word] + factors_x_operations\n",
    "\n",
    "    num_words = num_operations + 2\n",
    "    final_words = glove_df.index[np.dot(glove_df, result_vec).argsort()[::-1][:num_words]]\n",
    "    final_word = final_words[0]\n",
    "    i = 0\n",
    "    while(final_word == starting_word or final_word in factor_words):\n",
    "        i += 1\n",
    "        final_word = final_words[i]\n",
    "\n",
    "    similarity = np.dot(embeddings_index[final_word], result_vec)\n",
    "    equation_string = starting_word\n",
    "    for i in range(num_operations):\n",
    "        if operations[i] == 1:\n",
    "            equation_string += ' + '\n",
    "        else:\n",
    "            equation_string += ' - '\n",
    "        equation_string += factor_words[i]\n",
    "    equation_string += ' = ' + final_word\n",
    "\n",
    "    return similarity, equation_string\n",
    "\n",
    "simulate_game(words_array, glove_df, 2)"
   ]
  },
  {
   "cell_type": "code",
   "execution_count": 75,
   "metadata": {},
   "outputs": [
    {
     "name": "stderr",
     "output_type": "stream",
     "text": [
      "Equations found: 100%|██████████| 100/100 [00:07<00:00, 12.71it/s]\n"
     ]
    }
   ],
   "source": [
    "sim_results = []\n",
    "num_operations = 2\n",
    "num_results = 100\n",
    "threshold = 30\n",
    "\n",
    "with tqdm(total=num_results, desc=\"Equations found\") as pbar:\n",
    "    while len(sim_results) < num_results:\n",
    "        sim = simulate_game(words_array, glove_df, num_operations)\n",
    "        if sim[0] > threshold:\n",
    "            sim_results.append(sim)\n",
    "            pbar.update(1)\n",
    "results_df = pd.DataFrame(sim_results, columns=[\"similarity\", \"equation\"])\n",
    "\n",
    "sorted_results = results_df.sort_values(by=\"similarity\", ascending=False)\n",
    "sorted_results.to_csv(r'..\\data\\processed\\results.csv')"
   ]
  },
  {
   "cell_type": "code",
   "execution_count": null,
   "metadata": {},
   "outputs": [],
   "source": [
    "print(np.dot(embeddings_index['king'] - embeddings_index['man'] + embeddings_index['woman'], embeddings_index['queen']))\n",
    "print(np.dot(embeddings_index['king'], embeddings_index['queen']))"
   ]
  },
  {
   "cell_type": "code",
   "execution_count": null,
   "metadata": {},
   "outputs": [],
   "source": []
  }
 ],
 "metadata": {
  "kernelspec": {
   "display_name": "Python 3",
   "language": "python",
   "name": "python3"
  },
  "language_info": {
   "codemirror_mode": {
    "name": "ipython",
    "version": 3
   },
   "file_extension": ".py",
   "mimetype": "text/x-python",
   "name": "python",
   "nbconvert_exporter": "python",
   "pygments_lexer": "ipython3",
   "version": "3.12.0"
  }
 },
 "nbformat": 4,
 "nbformat_minor": 2
}
