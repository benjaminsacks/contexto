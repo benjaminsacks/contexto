{
 "cells": [
  {
   "cell_type": "code",
   "execution_count": 30,
   "metadata": {},
   "outputs": [],
   "source": [
    "import numpy as np\n",
    "import pandas as pd\n",
    "import re\n",
    "from nltk.corpus import wordnet\n",
    "from nltk.corpus import words\n",
    "from nltk.stem import WordNetLemmatizer"
   ]
  },
  {
   "cell_type": "code",
   "execution_count": 3,
   "metadata": {},
   "outputs": [
    {
     "name": "stdout",
     "output_type": "stream",
     "text": [
      "Found 400000 word vectors.\n"
     ]
    }
   ],
   "source": [
    "path_to_glove_file = r'glove.6B\\glove.6B.50d.txt'\n",
    "\n",
    "embeddings_index = {}\n",
    "with open(path_to_glove_file, encoding=\"utf8\") as f:\n",
    "    for line in f:\n",
    "        word, coefs = line.split(maxsplit=1)\n",
    "        coefs = np.fromstring(coefs, \"f\", sep=\" \")\n",
    "        embeddings_index[word] = coefs\n",
    "\n",
    "print(\"Found %s word vectors.\" % len(embeddings_index))"
   ]
  },
  {
   "cell_type": "code",
   "execution_count": 4,
   "metadata": {},
   "outputs": [],
   "source": [
    "words = np.array(list(embeddings_index.keys()))"
   ]
  },
  {
   "cell_type": "code",
   "execution_count": 5,
   "metadata": {},
   "outputs": [
    {
     "name": "stdout",
     "output_type": "stream",
     "text": [
      "# of words containing numbers:\t48970 out of 400000\n"
     ]
    }
   ],
   "source": [
    "contains_number = np.array([any(char.isdigit() for char in s) for s in words])\n",
    "print(\"# of words containing numbers:\\t\" + str(np.sum(contains_number)) + \" out of \" + str(len(words)))"
   ]
  },
  {
   "cell_type": "code",
   "execution_count": 6,
   "metadata": {},
   "outputs": [
    {
     "name": "stdout",
     "output_type": "stream",
     "text": [
      "# of words containing numbers:\t0 out of 317756\n"
     ]
    }
   ],
   "source": [
    "pattern = re.compile(r'^[a-z]+$')\n",
    "clean_words = np.array([x for x in words if pattern.match(x)])\n",
    "contains_number = np.array([any(char.isdigit() for char in s) for s in clean_words])\n",
    "print(\"# of words containing numbers:\\t\" + str(np.sum(contains_number)) + \" out of \" + str(len(clean_words)))"
   ]
  },
  {
   "cell_type": "code",
   "execution_count": 9,
   "metadata": {},
   "outputs": [],
   "source": [
    "# english_words = [word for word in clean_words if len(wordnet.synsets(word)) > 0]"
   ]
  },
  {
   "cell_type": "code",
   "execution_count": 37,
   "metadata": {},
   "outputs": [],
   "source": [
    "# Initialize WordNet lemmatizer\n",
    "lemmatizer = WordNetLemmatizer()\n",
    "\n",
    "# Function to get the root form of a word\n",
    "def get_root_word(word):\n",
    "    try:\n",
    "        # Get the Part of Speech (POS) tag for the word\n",
    "        pos_tag = wordnet.synsets(word)[0].pos()\n",
    "        # Lemmatize the word based on its POS tag\n",
    "        root_word = lemmatizer.lemmatize(word, pos=pos_tag)\n",
    "        return root_word\n",
    "    except:\n",
    "        # If an exception occurs, return the original word\n",
    "        return word\n",
    "\n",
    "# Get root words for the random values\n",
    "root_words = np.array([get_root_word(word) for word in clean_words])\n",
    "\n",
    "# Filter out super uncommon words\n",
    "common_words = set(words.words())\n",
    "filtered_words = [word for word in root_words if word in common_words]\n",
    "\n",
    "# Remove duplicates\n",
    "unique_words = np.unique(filtered_words)"
   ]
  },
  {
   "cell_type": "code",
   "execution_count": 38,
   "metadata": {},
   "outputs": [
    {
     "data": {
      "text/plain": [
       "49242"
      ]
     },
     "execution_count": 38,
     "metadata": {},
     "output_type": "execute_result"
    }
   ],
   "source": [
    "len(unique_words)"
   ]
  },
  {
   "cell_type": "code",
   "execution_count": 39,
   "metadata": {},
   "outputs": [
    {
     "data": {
      "text/plain": [
       "array(['propagate', 'suit', 'banzai', 'altin', 'croze', 'gold',\n",
       "       'cobblestone', 'nightingale', 'knockdown', 'dooryard', 'heading',\n",
       "       'unapologetic', 'principate', 'dong', 'marikina', 'enticement',\n",
       "       'smolt', 'dejectedly', 'threateningly', 'cattleya'], dtype='<U22')"
      ]
     },
     "execution_count": 39,
     "metadata": {},
     "output_type": "execute_result"
    }
   ],
   "source": [
    "np.random.choice(unique_words, size=20, replace=False)"
   ]
  },
  {
   "cell_type": "code",
   "execution_count": 40,
   "metadata": {},
   "outputs": [
    {
     "data": {
      "text/plain": [
       "True"
      ]
     },
     "execution_count": 40,
     "metadata": {},
     "output_type": "execute_result"
    }
   ],
   "source": [
    "\"the\" in unique_words"
   ]
  },
  {
   "cell_type": "code",
   "execution_count": 46,
   "metadata": {},
   "outputs": [],
   "source": [
    "glove_df = pd.DataFrame.from_dict(embeddings_index, orient=\"index\")"
   ]
  },
  {
   "cell_type": "code",
   "execution_count": 105,
   "metadata": {},
   "outputs": [
    {
     "name": "stdout",
     "output_type": "stream",
     "text": [
      "ending - functionary - soothsayer = ['fdch', 'worldsources', 'agreement', 'talks', 'end']\n"
     ]
    }
   ],
   "source": [
    "starting_word = np.random.choice(unique_words)\n",
    "factor_words = np.random.choice(unique_words, size=2, replace=False)\n",
    "operations = np.random.choice([-1, 1], size=2)\n",
    "\n",
    "factor_matrix = np.array([glove_df.loc[word] for word in factor_words])\n",
    "factors_x_operations = np.dot(operations, factor_matrix)\n",
    "\n",
    "result_vec = np.array(glove_df.loc[starting_word]) + factors_x_operations\n",
    "final_words = list(glove_df.index[np.dot(glove_df, result_vec).argsort()[::-1][:5]])\n",
    "\n",
    "op_text = [\" + \" if o == 1 else \" - \" for o in list(operations)]\n",
    "print(starting_word + op_text[0] + factor_words[0]\n",
    "                    + op_text[1] + factor_words[1]\n",
    "                    # + op_text[2] + factor_words[2]\n",
    "                    + \" = \" + str(final_words))\n"
   ]
  }
 ],
 "metadata": {
  "kernelspec": {
   "display_name": "Python 3",
   "language": "python",
   "name": "python3"
  },
  "language_info": {
   "codemirror_mode": {
    "name": "ipython",
    "version": 3
   },
   "file_extension": ".py",
   "mimetype": "text/x-python",
   "name": "python",
   "nbconvert_exporter": "python",
   "pygments_lexer": "ipython3",
   "version": "3.12.0"
  }
 },
 "nbformat": 4,
 "nbformat_minor": 2
}
